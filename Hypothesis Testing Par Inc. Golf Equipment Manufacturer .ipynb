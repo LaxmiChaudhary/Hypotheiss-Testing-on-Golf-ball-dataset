{
 "cells": [
  {
   "cell_type": "markdown",
   "metadata": {},
   "source": [
    "# 1.Import the Libraries"
   ]
  },
  {
   "cell_type": "code",
   "execution_count": 1,
   "metadata": {},
   "outputs": [],
   "source": [
    "#import the libraries\n",
    "import numpy as np\n",
    "import pandas as pd\n",
    "import matplotlib.pyplot as plt\n",
    "%matplotlib inline\n",
    "import seaborn as sns\n",
    "import scipy\n",
    "from scipy.stats import ttest_1samp,ttest_ind,mannwhitneyu,levene,shapiro,wilcoxon\n",
    "from statsmodels.stats.power import ttest_power\n",
    "import math"
   ]
  },
  {
   "cell_type": "markdown",
   "metadata": {},
   "source": [
    "# 2.Load the dataset"
   ]
  },
  {
   "cell_type": "code",
   "execution_count": 2,
   "metadata": {},
   "outputs": [],
   "source": [
    "#Load the dataset\n",
    "\n",
    "mydata=pd.read_excel('SM4-Golf.xls',sheet_name='Data')"
   ]
  },
  {
   "cell_type": "markdown",
   "metadata": {},
   "source": [
    "# 3.Descriptive Statistics"
   ]
  },
  {
   "cell_type": "code",
   "execution_count": 3,
   "metadata": {},
   "outputs": [
    {
     "data": {
      "text/html": [
       "<div>\n",
       "<style scoped>\n",
       "    .dataframe tbody tr th:only-of-type {\n",
       "        vertical-align: middle;\n",
       "    }\n",
       "\n",
       "    .dataframe tbody tr th {\n",
       "        vertical-align: top;\n",
       "    }\n",
       "\n",
       "    .dataframe thead th {\n",
       "        text-align: right;\n",
       "    }\n",
       "</style>\n",
       "<table border=\"1\" class=\"dataframe\">\n",
       "  <thead>\n",
       "    <tr style=\"text-align: right;\">\n",
       "      <th></th>\n",
       "      <th>Current</th>\n",
       "      <th>New</th>\n",
       "    </tr>\n",
       "  </thead>\n",
       "  <tbody>\n",
       "    <tr>\n",
       "      <td>0</td>\n",
       "      <td>264</td>\n",
       "      <td>277</td>\n",
       "    </tr>\n",
       "    <tr>\n",
       "      <td>1</td>\n",
       "      <td>261</td>\n",
       "      <td>269</td>\n",
       "    </tr>\n",
       "    <tr>\n",
       "      <td>2</td>\n",
       "      <td>267</td>\n",
       "      <td>263</td>\n",
       "    </tr>\n",
       "    <tr>\n",
       "      <td>3</td>\n",
       "      <td>272</td>\n",
       "      <td>266</td>\n",
       "    </tr>\n",
       "    <tr>\n",
       "      <td>4</td>\n",
       "      <td>258</td>\n",
       "      <td>262</td>\n",
       "    </tr>\n",
       "  </tbody>\n",
       "</table>\n",
       "</div>"
      ],
      "text/plain": [
       "   Current  New\n",
       "0      264  277\n",
       "1      261  269\n",
       "2      267  263\n",
       "3      272  266\n",
       "4      258  262"
      ]
     },
     "execution_count": 3,
     "metadata": {},
     "output_type": "execute_result"
    }
   ],
   "source": [
    "# To show the top 5 rows of dataset\n",
    "\n",
    "mydata.head()"
   ]
  },
  {
   "cell_type": "code",
   "execution_count": 4,
   "metadata": {},
   "outputs": [
    {
     "data": {
      "text/html": [
       "<div>\n",
       "<style scoped>\n",
       "    .dataframe tbody tr th:only-of-type {\n",
       "        vertical-align: middle;\n",
       "    }\n",
       "\n",
       "    .dataframe tbody tr th {\n",
       "        vertical-align: top;\n",
       "    }\n",
       "\n",
       "    .dataframe thead th {\n",
       "        text-align: right;\n",
       "    }\n",
       "</style>\n",
       "<table border=\"1\" class=\"dataframe\">\n",
       "  <thead>\n",
       "    <tr style=\"text-align: right;\">\n",
       "      <th></th>\n",
       "      <th>Current</th>\n",
       "      <th>New</th>\n",
       "    </tr>\n",
       "  </thead>\n",
       "  <tbody>\n",
       "    <tr>\n",
       "      <td>count</td>\n",
       "      <td>40.000000</td>\n",
       "      <td>40.000000</td>\n",
       "    </tr>\n",
       "    <tr>\n",
       "      <td>mean</td>\n",
       "      <td>270.275000</td>\n",
       "      <td>267.500000</td>\n",
       "    </tr>\n",
       "    <tr>\n",
       "      <td>std</td>\n",
       "      <td>8.752985</td>\n",
       "      <td>9.896904</td>\n",
       "    </tr>\n",
       "    <tr>\n",
       "      <td>min</td>\n",
       "      <td>255.000000</td>\n",
       "      <td>250.000000</td>\n",
       "    </tr>\n",
       "    <tr>\n",
       "      <td>25%</td>\n",
       "      <td>263.000000</td>\n",
       "      <td>262.000000</td>\n",
       "    </tr>\n",
       "    <tr>\n",
       "      <td>50%</td>\n",
       "      <td>270.000000</td>\n",
       "      <td>265.000000</td>\n",
       "    </tr>\n",
       "    <tr>\n",
       "      <td>75%</td>\n",
       "      <td>275.250000</td>\n",
       "      <td>274.500000</td>\n",
       "    </tr>\n",
       "    <tr>\n",
       "      <td>max</td>\n",
       "      <td>289.000000</td>\n",
       "      <td>289.000000</td>\n",
       "    </tr>\n",
       "  </tbody>\n",
       "</table>\n",
       "</div>"
      ],
      "text/plain": [
       "          Current         New\n",
       "count   40.000000   40.000000\n",
       "mean   270.275000  267.500000\n",
       "std      8.752985    9.896904\n",
       "min    255.000000  250.000000\n",
       "25%    263.000000  262.000000\n",
       "50%    270.000000  265.000000\n",
       "75%    275.250000  274.500000\n",
       "max    289.000000  289.000000"
      ]
     },
     "execution_count": 4,
     "metadata": {},
     "output_type": "execute_result"
    }
   ],
   "source": [
    "# To get the basic statistical summary of data\n",
    "\n",
    "mydata.describe()"
   ]
  },
  {
   "cell_type": "markdown",
   "metadata": {},
   "source": [
    "* It shows that mean and median of the two columns 'Current' and 'New' are very close.\n",
    "\n",
    "* The standard deviations also have no significant change. Hence, data is normally distributed.\n",
    "\n",
    "* There is dip in the performance of Current and New balls driving force as mean, median, min values differ."
   ]
  },
  {
   "cell_type": "code",
   "execution_count": 5,
   "metadata": {},
   "outputs": [
    {
     "name": "stdout",
     "output_type": "stream",
     "text": [
      "<class 'pandas.core.frame.DataFrame'>\n",
      "RangeIndex: 40 entries, 0 to 39\n",
      "Data columns (total 2 columns):\n",
      "Current    40 non-null int64\n",
      "New        40 non-null int64\n",
      "dtypes: int64(2)\n",
      "memory usage: 768.0 bytes\n"
     ]
    }
   ],
   "source": [
    "## To show the detailed summary \n",
    "\n",
    "mydata.info()"
   ]
  },
  {
   "cell_type": "markdown",
   "metadata": {},
   "source": [
    "* There are 40 values in the dataset. There are 2 columns Current and New .\n",
    "\n",
    "* Both have non-null values.There is no missing values in the dataset.\n",
    "\n",
    "* Both variables are integer types.The memory usage is 720 bytes."
   ]
  },
  {
   "cell_type": "code",
   "execution_count": 6,
   "metadata": {},
   "outputs": [
    {
     "data": {
      "text/plain": [
       "<matplotlib.axes._subplots.AxesSubplot at 0x1f983b9ba20>"
      ]
     },
     "execution_count": 6,
     "metadata": {},
     "output_type": "execute_result"
    },
    {
     "data": {
      "image/png": "[encoded data removed]",
      "text/plain": [
       "<Figure size 720x576 with 4 Axes>"
      ]
     },
     "metadata": {
      "needs_background": "light"
     },
     "output_type": "display_data"
    }
   ],
   "source": [
    "fig, ax2 = plt.subplots(2,2, figsize=(10, 8))\n",
    "mydata['Current'].hist(ax=ax2[0][0])\n",
    "mydata['New'].hist(ax=ax2[0][1])\n",
    "sns.boxplot(mydata['Current'],ax=ax2[1][0])\n",
    "sns.boxplot(mydata['New'],ax=ax2[1][1])\n"
   ]
  },
  {
   "cell_type": "markdown",
   "metadata": {},
   "source": [
    "* The histogram of both vaiable 'Current' and 'New' are nearly normally distributed.\n",
    "\n",
    "* 'Current' is little bit left skewed.\n",
    "\n",
    "* 'New' is right skewed.\n",
    "\n",
    "* Boxplot of both variables show that there are no outliers."
   ]
  },
  {
   "cell_type": "code",
   "execution_count": 7,
   "metadata": {},
   "outputs": [
    {
     "data": {
      "text/plain": [
       "<matplotlib.axes._subplots.AxesSubplot at 0x1f984ea07f0>"
      ]
     },
     "execution_count": 7,
     "metadata": {},
     "output_type": "execute_result"
    },
    {
     "data": {
      "image/png": "[encoded data removed]",
      "text/plain": [
       "<Figure size 432x288 with 2 Axes>"
      ]
     },
     "metadata": {
      "needs_background": "light"
     },
     "output_type": "display_data"
    }
   ],
   "source": [
    "fig, ax2 = plt.subplots(1, 2)\n",
    "sns.distplot(mydata['Current'],ax=ax2[0])\n",
    "sns.distplot(mydata['New'],ax=ax2[1])"
   ]
  },
  {
   "cell_type": "markdown",
   "metadata": {},
   "source": [
    "# 4.Hypothesis Testing"
   ]
  },
  {
   "cell_type": "markdown",
   "metadata": {},
   "source": [
    "* The sample size is n=40. As the sample size is greater than 30 we will go for Z test. But the population standard deviation (Sigma) is unknown, Therefore, we have to use T test.\n",
    "\n",
    "* Assume the significance level (Alpha)=0.05.\n",
    "\n",
    "* To compare the driving distances of of the Current and New golf balls, we use Two tailed t test."
   ]
  },
  {
   "cell_type": "markdown",
   "metadata": {},
   "source": [
    "### Formulation of Hypothesis\n",
    "\n",
    "Here we use two tailed independent t test\n",
    "\n",
    "* **Null Hypothesis** \n",
    "\n",
    "$\n",
    "H_{0}:{\\mu_{1}}-{\\mu_{2}}=0\n",
    "$\n",
    "It means there is no significant change in the driving distances of the current and new golf balls.\n",
    "\n",
    "* **Alternate Hypothesis** \n",
    "\n",
    "$\n",
    "H_{a}:{\\mu_{1}}-{\\mu_{2}} {\\not=} 0\n",
    "$\n",
    "It means there is a significant change in the driving distances of the current and new golf balls."
   ]
  },
  {
   "cell_type": "markdown",
   "metadata": {},
   "source": [
    "### Levene Test"
   ]
  },
  {
   "cell_type": "code",
   "execution_count": 8,
   "metadata": {},
   "outputs": [
    {
     "data": {
      "text/plain": [
       "LeveneResult(statistic=0.2553238291765741, pvalue=0.6147759523331309)"
      ]
     },
     "execution_count": 8,
     "metadata": {},
     "output_type": "execute_result"
    }
   ],
   "source": [
    "levene(mydata['Current'],mydata['New'])"
   ]
  },
  {
   "cell_type": "markdown",
   "metadata": {},
   "source": [
    "p_value indicate null hypothesis should not be rejected.The null hypothesis of levene test is that the variances are equal.  "
   ]
  },
  {
   "cell_type": "markdown",
   "metadata": {},
   "source": [
    "### Shapiro Test"
   ]
  },
  {
   "cell_type": "code",
   "execution_count": 9,
   "metadata": {},
   "outputs": [
    {
     "data": {
      "text/plain": [
       "(0.9707046747207642, 0.378787100315094)"
      ]
     },
     "execution_count": 9,
     "metadata": {},
     "output_type": "execute_result"
    }
   ],
   "source": [
    "shapiro(mydata['Current'])"
   ]
  },
  {
   "cell_type": "code",
   "execution_count": 10,
   "metadata": {},
   "outputs": [
    {
     "data": {
      "text/plain": [
       "(0.9678263664245605, 0.3064655363559723)"
      ]
     },
     "execution_count": 10,
     "metadata": {},
     "output_type": "execute_result"
    }
   ],
   "source": [
    "shapiro(mydata['New'])"
   ]
  },
  {
   "cell_type": "markdown",
   "metadata": {},
   "source": [
    "The p value greater than 0.5 hence,the normality assumptions for each variable are fulfilled successfully."
   ]
  },
  {
   "cell_type": "markdown",
   "metadata": {},
   "source": [
    "### Two tailed Two sample independent t-test"
   ]
  },
  {
   "cell_type": "code",
   "execution_count": 11,
   "metadata": {},
   "outputs": [
    {
     "name": "stdout",
     "output_type": "stream",
     "text": [
      "t-statistics= 1.3283615935245678 p_value= 0.18793228491854663\n"
     ]
    }
   ],
   "source": [
    "t_statistics,p_value=ttest_ind(mydata['Current'],mydata['New'])\n",
    "print('t-statistics=',t_statistics,'p_value=',p_value)"
   ]
  },
  {
   "cell_type": "markdown",
   "metadata": {},
   "source": [
    "* Here the p_value is 0.1879 which is greater than the 0.05.Therefore, we failed to reject the Null Hypothesis.\n",
    "\n",
    "* It means there is no significant change in the driving distances of the current and new golf balls.\n",
    "\n",
    "* Hence, the new balls might not be preffered by the management rather than the old ones."
   ]
  },
  {
   "cell_type": "code",
   "execution_count": 12,
   "metadata": {},
   "outputs": [
    {
     "name": "stdout",
     "output_type": "stream",
     "text": [
      "Current mean= 270.275\n",
      "New mean= 267.5\n"
     ]
    }
   ],
   "source": [
    "print('Current mean=',mydata['Current'].mean())\n",
    "print('New mean=',mydata['New'].mean())"
   ]
  },
  {
   "cell_type": "markdown",
   "metadata": {},
   "source": [
    "**One Sample t-test for Current**"
   ]
  },
  {
   "cell_type": "code",
   "execution_count": 13,
   "metadata": {},
   "outputs": [
    {
     "name": "stdout",
     "output_type": "stream",
     "text": [
      "The t-statistic is 195.290\n",
      "The p_value is 6.087391701390452e-60\n"
     ]
    }
   ],
   "source": [
    "t_statistics,p_value=ttest_1samp(mydata['Current'],0)\n",
    "print('The t-statistic is %.3f'% t_statistics)\n",
    "print('The p_value is', p_value)"
   ]
  },
  {
   "cell_type": "code",
   "execution_count": 14,
   "metadata": {},
   "outputs": [
    {
     "name": "stdout",
     "output_type": "stream",
     "text": [
      "The 95% confidence interval for Current balls driving distance mean is 267.47661585316285 to 273.0733841468371\n"
     ]
    }
   ],
   "source": [
    "tstat=-2.022\n",
    "mu=mydata['Current'].mean()\n",
    "s=mydata['Current'].std()\n",
    "n=mydata['Current'].count()\n",
    "xbar1=tstat*(s/np.sqrt(n))+mu\n",
    "tstat=2.022\n",
    "mu=mydata['Current'].mean()\n",
    "s=mydata['Current'].std()\n",
    "n=mydata['Current'].count()\n",
    "xbar2=tstat*(s/np.sqrt(n))+mu\n",
    "\n",
    "print(\"The 95% confidence interval for Current balls driving distance mean is \" ,xbar1, \" to \", xbar2, sep=\"\")\n"
   ]
  },
  {
   "cell_type": "markdown",
   "metadata": {},
   "source": [
    "**One Sample t-test for New**"
   ]
  },
  {
   "cell_type": "code",
   "execution_count": 15,
   "metadata": {},
   "outputs": [
    {
     "name": "stdout",
     "output_type": "stream",
     "text": [
      "The 95% confidence interval for NEw balls driving distance mean is 264.3358975753231 to 270.6641024246769\n"
     ]
    }
   ],
   "source": [
    "tstat=-2.022\n",
    "mu=mydata['New'].mean()\n",
    "s=mydata['New'].std()\n",
    "n=mydata['New'].count()\n",
    "xbar1=tstat*(s/np.sqrt(n))+mu\n",
    "tstat=2.022\n",
    "mu=mydata['New'].mean()\n",
    "s=mydata['New'].std()\n",
    "n=mydata['New'].count()\n",
    "xbar2=tstat*(s/np.sqrt(n))+mu\n",
    "print(\"The 95% confidence interval for NEw balls driving distance mean is \" ,xbar1, \" to \", xbar2, sep=\"\")\n"
   ]
  },
  {
   "cell_type": "code",
   "execution_count": 16,
   "metadata": {},
   "outputs": [
    {
     "name": "stdout",
     "output_type": "stream",
     "text": [
      "170.9442133673136 1.0890371893600406e-57\n"
     ]
    }
   ],
   "source": [
    "t_statistics,p_value=ttest_1samp(mydata['New'],0)\n",
    "print(t_statistics,p_value)"
   ]
  },
  {
   "cell_type": "code",
   "execution_count": 17,
   "metadata": {},
   "outputs": [],
   "source": [
    "t_statistics,p_value=ttest_1samp(mydata['New']-mydata['Current'],0)"
   ]
  },
  {
   "cell_type": "code",
   "execution_count": 18,
   "metadata": {},
   "outputs": [
    {
     "name": "stdout",
     "output_type": "stream",
     "text": [
      "-1.2769699827911767 0.20916361823147053\n"
     ]
    }
   ],
   "source": [
    "print(t_statistics,p_value)"
   ]
  },
  {
   "cell_type": "markdown",
   "metadata": {},
   "source": [
    "# 5.Pooled Standard Deviation"
   ]
  },
  {
   "cell_type": "code",
   "execution_count": 19,
   "metadata": {},
   "outputs": [],
   "source": [
    "# Std Deviation of Current golf and New golf sample size\n",
    "\n",
    "std_current = np.std(mydata['Current'])\n",
    "std_new = np.std(mydata['New'])"
   ]
  },
  {
   "cell_type": "code",
   "execution_count": 20,
   "metadata": {},
   "outputs": [
    {
     "name": "stdout",
     "output_type": "stream",
     "text": [
      "The Pooled Standard Deviation is: 9.225\n"
     ]
    }
   ],
   "source": [
    "# Calculating Pooled Standard Deviation\n",
    "pooled_std = math.sqrt(((std_current*std_current)+(std_new*std_new))/(2))\n",
    "print (\"The Pooled Standard Deviation is: %.3f\" %pooled_std)"
   ]
  },
  {
   "cell_type": "markdown",
   "metadata": {},
   "source": [
    "# 6. Power of the Test"
   ]
  },
  {
   "cell_type": "code",
   "execution_count": 21,
   "metadata": {},
   "outputs": [],
   "source": [
    "# Creating a function\n",
    "def sample_power_difftest(d,s,power=0.8,sig=0.05):\n",
    "    z = scipy.stats.norm.isf([sig/2])\n",
    "    zp = -1 * scipy.stats.norm.isf([power])\n",
    "    n = (2*(s**2)) * ((zp+z)**2) / (d**2)\n",
    "    return int(round(n[0]))"
   ]
  },
  {
   "cell_type": "code",
   "execution_count": 22,
   "metadata": {},
   "outputs": [],
   "source": [
    "# Mean of Current golf and New golf sample size\n",
    "mean_current=np.mean(mydata['Current'])\n",
    "mean_new=np.mean(mydata['New'])"
   ]
  },
  {
   "cell_type": "code",
   "execution_count": 23,
   "metadata": {},
   "outputs": [
    {
     "name": "stdout",
     "output_type": "stream",
     "text": [
      "2.7749999999999773\n"
     ]
    }
   ],
   "source": [
    "d = mean_current - mean_new\n",
    "print(d)"
   ]
  },
  {
   "cell_type": "code",
   "execution_count": 24,
   "metadata": {},
   "outputs": [
    {
     "name": "stdout",
     "output_type": "stream",
     "text": [
      "total Number of Observations:  51\n"
     ]
    }
   ],
   "source": [
    "n=sample_power_difftest(d,pooled_std,power=0.8,sig=0.5)\n",
    "print(\"total Number of Observations: \", n)"
   ]
  },
  {
   "cell_type": "markdown",
   "metadata": {},
   "source": [
    "* It gives the ideal sample size of the two data variables.\n",
    "* We can find the optimal number of observations required for a dataset.\n",
    "* We require the number of oberservations 51 to get a power of 80%. The number of observation we have is 40 which is not sufficient to obtain the power of 80%."
   ]
  },
  {
   "cell_type": "markdown",
   "metadata": {},
   "source": [
    "# 7.Conclusion"
   ]
  },
  {
   "cell_type": "markdown",
   "metadata": {},
   "source": [
    "* The new golf ball will not be introduced to the market.\n",
    "\n",
    "* There is no significance difference in driving distance of the Current and New golf balls.\n",
    "\n",
    "* It is better to conduct test with larger sample size to improve the accuracy of the test results.\n",
    "\n",
    "* It is also good to interpret other characteristics of the golf balls like size, shape etc."
   ]
  }
 ],
 "metadata": {
  "kernelspec": {
   "display_name": "Python 3",
   "language": "python",
   "name": "python3"
  },
  "language_info": {
   "codemirror_mode": {
    "name": "ipython",
    "version": 3
   },
   "file_extension": ".py",
   "mimetype": "text/x-python",
   "name": "python",
   "nbconvert_exporter": "python",
   "pygments_lexer": "ipython3",
   "version": "3.7.3"
  }
 },
 "nbformat": 4,
 "nbformat_minor": 2
}
